{
 "cells": [
  {
   "cell_type": "code",
   "execution_count": 1,
   "metadata": {},
   "outputs": [
    {
     "data": {
      "text/plain": [
       "<Figure size 640x480 with 1 Axes>"
      ]
     },
     "metadata": {},
     "output_type": "display_data"
    },
    {
     "ename": "IndexError",
     "evalue": "index 128 is out of bounds for axis 1 with size 128",
     "output_type": "error",
     "traceback": [
      "\u001b[0;31m---------------------------------------------------------------------------\u001b[0m",
      "\u001b[0;31mIndexError\u001b[0m                                Traceback (most recent call last)",
      "\u001b[0;32m<ipython-input-1-e9e6a362bb4e>\u001b[0m in \u001b[0;36m<module>\u001b[0;34m()\u001b[0m\n\u001b[1;32m     17\u001b[0m \u001b[0;32mfor\u001b[0m \u001b[0mi\u001b[0m \u001b[0;32min\u001b[0m \u001b[0mrange\u001b[0m\u001b[0;34m(\u001b[0m\u001b[0;36m512\u001b[0m\u001b[0;34m)\u001b[0m\u001b[0;34m:\u001b[0m\u001b[0;34m\u001b[0m\u001b[0m\n\u001b[1;32m     18\u001b[0m         \u001b[0;32mfor\u001b[0m \u001b[0mj\u001b[0m \u001b[0;32min\u001b[0m \u001b[0mrange\u001b[0m\u001b[0;34m(\u001b[0m\u001b[0;36m512\u001b[0m\u001b[0;34m)\u001b[0m\u001b[0;34m:\u001b[0m\u001b[0;34m\u001b[0m\u001b[0m\n\u001b[0;32m---> 19\u001b[0;31m                 \u001b[0mpoint\u001b[0m \u001b[0;34m=\u001b[0m \u001b[0;34m[\u001b[0m\u001b[0mR\u001b[0m\u001b[0;34m[\u001b[0m\u001b[0mi\u001b[0m\u001b[0;34m,\u001b[0m\u001b[0mj\u001b[0m\u001b[0;34m]\u001b[0m\u001b[0;34m,\u001b[0m \u001b[0mG\u001b[0m\u001b[0;34m[\u001b[0m\u001b[0mi\u001b[0m\u001b[0;34m,\u001b[0m\u001b[0mj\u001b[0m\u001b[0;34m]\u001b[0m\u001b[0;34m,\u001b[0m \u001b[0mB\u001b[0m\u001b[0;34m[\u001b[0m\u001b[0mi\u001b[0m\u001b[0;34m,\u001b[0m\u001b[0mj\u001b[0m\u001b[0;34m]\u001b[0m\u001b[0;34m]\u001b[0m\u001b[0;34m\u001b[0m\u001b[0m\n\u001b[0m\u001b[1;32m     20\u001b[0m                 \u001b[0mpoints\u001b[0m\u001b[0;34m.\u001b[0m\u001b[0mappend\u001b[0m\u001b[0;34m(\u001b[0m\u001b[0mpoint\u001b[0m\u001b[0;34m)\u001b[0m\u001b[0;34m\u001b[0m\u001b[0m\n\u001b[1;32m     21\u001b[0m \u001b[0;34m\u001b[0m\u001b[0m\n",
      "\u001b[0;31mIndexError\u001b[0m: index 128 is out of bounds for axis 1 with size 128"
     ]
    }
   ],
   "source": [
    "import matplotlib\n",
    "from matplotlib.image import imread\n",
    "import matplotlib.pyplot as plt\n",
    "import random\n",
    "import numpy as np\n",
    "\n",
    "\n",
    "A = imread('peppers-small.tiff')\n",
    "plt.imshow(A)\n",
    "plt.show()\n",
    "\n",
    "R = A[:,:,0]\n",
    "G = A[:,:,1]\n",
    "B = A[:,:,2]\n",
    "\n",
    "points = []\n",
    "for i in range(512):\n",
    "\tfor j in range(512):\n",
    " \t\tpoint = [R[i,j], G[i,j], B[i,j]]\n",
    " \t\tpoints.append(point)\n",
    "\n",
    "\n",
    "#Initialization\n",
    "k = 16\n",
    "mu = []\n",
    "for i in range(k):\n",
    "\tinitial = random.randint(0,262144)\n",
    "\tmu.append(points[i])\n",
    "\n",
    "c = []\n",
    "check = True\n",
    "while(check):\n",
    "\n",
    "\tc_old = c #to check for convergence we store the past c\n",
    "\tfor i in range(len(points)):\n",
    "\t\tmin_index = 0\n",
    "\t\tmin_value = 100000000\n",
    "\t\tfor j in range(k):\n",
    "\t\t\tval = (np.linalg.norm(points[i] - mu[j]))**2\n",
    "\t\t\tif (val < min_value):\n",
    "\t\t\t\tmin_value = val\n",
    "\t\t\t\tmin_index = j\n",
    "\t\t#At the end of iteration have the j value for each point\n",
    "\t\tc[i] = min_index #at the ith index\n",
    "\t#Now we have the new values of c chosen from the current cluster centroids\n",
    "\n",
    "\t#convergence check\n",
    "\tif (c_old == c):\n",
    "\t\tcheck = False\n",
    "\t\tcontinue\n",
    "\n",
    "\t#Now we re-calculate the centroids\n",
    "\tfor j in range(k):\n",
    "\t\tdenom = 0 #case where this ends up being zero?\n",
    "\t\tnum = 0\n",
    "\t\tfor index in c:\n",
    "\t\t\tif (index == j):\n",
    "\t\t\t\tdenom += 1\n",
    "\t\t\t\tnum += points[index]\n",
    "\t\tif denom == 0: continue \n",
    "\t\tmu[j] = num/denom\n",
    "\n",
    "\t#Now we have the newly calculated cluster centroids, and we will repeat until convergence\n",
    "\n",
    "#Now we have the c values for each cluster identity as well as mu, the cluster centers. \n",
    "\n",
    "\n",
    "\n",
    "\n",
    "\n",
    "\n",
    "\n",
    "\n",
    "#Take the matrix A from peppers-large.tiff, and replace each pixel’s (r, g, b) values with the value of the closest cluster centroid. \n",
    "#Display the new image, and compare it visually to the original image. \n",
    "#Include in your write-up all your code and a copy of your compressed image.\n"
   ]
  },
  {
   "cell_type": "code",
   "execution_count": null,
   "metadata": {},
   "outputs": [],
   "source": []
  }
 ],
 "metadata": {
  "kernelspec": {
   "display_name": "Python 3",
   "language": "python",
   "name": "python3"
  },
  "language_info": {
   "codemirror_mode": {
    "name": "ipython",
    "version": 3
   },
   "file_extension": ".py",
   "mimetype": "text/x-python",
   "name": "python",
   "nbconvert_exporter": "python",
   "pygments_lexer": "ipython3",
   "version": "3.6.5"
  }
 },
 "nbformat": 4,
 "nbformat_minor": 2
}
